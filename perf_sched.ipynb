{
 "cells": [
  {
   "cell_type": "code",
   "execution_count": null,
   "metadata": {},
   "outputs": [],
   "source": [
    "def parse_timestamp(splitted: list[str]) -> int:\n",
    "    return int(float(splitted[3][:-1]) * 1e6)  # s -> us\n",
    "\n",
    "\n",
    "def calc_switch_latencies(log_path: str) -> tuple[list[int], int]:\n",
    "    \"\"\"This function ignores the swapper tasks.\"\"\"\n",
    "\n",
    "    with open(log_path, 'r') as file:\n",
    "        lines = file.readlines()\n",
    "\n",
    "    switch_latencies_us: list[int] = []\n",
    "    for i in range(len(lines)-1):\n",
    "        splitted = lines[i].split()\n",
    "        if splitted[0] != 'componen':\n",
    "            continue\n",
    "\n",
    "        if splitted[4] == 'sched:sched_switch:' and lines[i+1].split()[0] == 'componen':\n",
    "            switch_latencies_us.append(parse_timestamp(\n",
    "                lines[i+1].split()) - parse_timestamp(splitted))\n",
    "\n",
    "    duration_us = parse_timestamp(\n",
    "        lines[-1].split()) - parse_timestamp(lines[0].split())\n",
    "\n",
    "    return switch_latencies_us, duration_us"
   ]
  },
  {
   "cell_type": "code",
   "execution_count": null,
   "metadata": {},
   "outputs": [],
   "source": [
    "import matplotlib.pyplot as plt\n",
    "\n",
    "\n",
    "def plot_hist(latencies_us: list[int], title: str) -> None:\n",
    "    plt.title(title)\n",
    "    plt.hist(latencies_us, bins=100)\n",
    "    plt.xlabel('Latency [us]')\n",
    "    plt.ylabel('Count')\n",
    "    plt.show()"
   ]
  },
  {
   "cell_type": "code",
   "execution_count": null,
   "metadata": {},
   "outputs": [],
   "source": [
    "def show_stats(log_path: str) -> None:\n",
    "    switch_latencies_us, duration_us = calc_switch_latencies(log_path)\n",
    "\n",
    "    print(f'===== Context Switch Latency =====')\n",
    "    sum_latency = sum(switch_latencies_us)\n",
    "    print(f'Log file : {log_path}')\n",
    "    print(f'CPU usage: {sum_latency / duration_us * 100} [%]')\n",
    "    print(f'Minimum  : {min(switch_latencies_us)} [us]')\n",
    "    print(f'Average  : {sum_latency / len(switch_latencies_us)} [us]')\n",
    "    print(f'Maximum  : {max(switch_latencies_us)} [us]')\n",
    "    plot_hist(switch_latencies_us, 'Histogram of Context Switch Latency')"
   ]
  },
  {
   "cell_type": "code",
   "execution_count": null,
   "metadata": {},
   "outputs": [],
   "source": [
    "EDF_LOG_FILE = '/home/atsushi/ros2_task_set/perf_logs/20240709_edf_cpu2.txt'\n",
    "CFS_LOG_FILE = '/home/atsushi/ros2_task_set/perf_logs/20240709_cfs_cpu2.txt'"
   ]
  },
  {
   "cell_type": "code",
   "execution_count": null,
   "metadata": {},
   "outputs": [],
   "source": [
    "show_stats(EDF_LOG_FILE)\n",
    "show_stats(CFS_LOG_FILE)"
   ]
  },
  {
   "cell_type": "code",
   "execution_count": null,
   "metadata": {},
   "outputs": [],
   "source": []
  }
 ],
 "metadata": {
  "kernelspec": {
   "display_name": "Python 3",
   "language": "python",
   "name": "python3"
  },
  "language_info": {
   "codemirror_mode": {
    "name": "ipython",
    "version": 3
   },
   "file_extension": ".py",
   "mimetype": "text/x-python",
   "name": "python",
   "nbconvert_exporter": "python",
   "pygments_lexer": "ipython3",
   "version": "3.10.12"
  }
 },
 "nbformat": 4,
 "nbformat_minor": 2
}
